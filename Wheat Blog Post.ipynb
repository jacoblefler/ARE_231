{
 "cells": [
  {
   "cell_type": "markdown",
   "metadata": {},
   "source": [
    "## Are Wheat Futures Prices Being Driven by a Hot, Dry Summer?\n",
    "By Jacob Lefler and Shuo Yu"
   ]
  },
  {
   "cell_type": "markdown",
   "metadata": {},
   "source": [
    "A recent Wall Street Journal article highlighted increasing futures prices for wheat and suggested that these were in part due to \"extreme dryness and heat in the world’s breadbaskets\" (https://www.wsj.com/articles/wheat-prices-skyrocket-after-dry-weather-coronavirus-lockdowns-11602249791?st=14rd570yuifxif8). In this blog post, we explore the extent to which this year's prices appear to be driven by weather. We compare this year's weather in US wheat-growing areas to that of the past 10 years. The measures of weather that we use are precipitation and Extreme Degree Days (defined later). \n",
    "\n",
    "First, we review futures prices for wheat, highlighting a significant increase from Aug to Oct 2020. Next, we look at the amount of wheat in storage in 2020 compared to previous years and find that it has decreased somewhat. Finally, we consider the weather data. Surprisingly, we don't find evidence that EDD is higher this year than in previous years, but we do find that precipitation was notably lower throughout the late summer and early fall, possibly playing a role in the increased prices.\n",
    "\n",
    "From our review of the weather data, it seems that precipitation could have played some role in the spike in wheat prices, but we can't comment on the extent of that role without more sophisticated analysis. Temperature, at least in terms of EDD and for the wheat-growing areas that we consider, does not seem to have played an important role. If we had to guess, we would suggest that non-climate factors have played an important role in driving these price changes (trade relationships, market turmoil due to the COVID pandemic). We'll leave that analysis to another blog post."
   ]
  },
  {
   "cell_type": "markdown",
   "metadata": {},
   "source": [
    "![futures](Img/futures.png)"
   ]
  },
  {
   "cell_type": "markdown",
   "metadata": {},
   "source": [
    "Data Source: [Yahoo Finance](https://finance.yahoo.com/quote/KE%3DF?p=KE%3DF)"
   ]
  },
  {
   "cell_type": "markdown",
   "metadata": {},
   "source": [
    "Here we see that wheat futures prices have increased substantially since from the late summer to fall. COVID has had major impacts on both agricultural producers and consumers, but it's difficult to know to what degree these futures prices have been driven by the pandemic. Still, if you look at this graph, there is a big increase in futures price from mid-March to the beginning of April, which is when shelter-in-place orders were issued in the US. You might also notice another increase in prices starting in July, which is when the US experienced a \"second wave\" of COVID cases (see this CDC graph, https://covid.cdc.gov/covid-data-tracker/#trends_dailytrendscases). Of course, these correlations could be spurious, but the matching is interesting to note.\n",
    "\n",
    "But what about the huge increase from August to October? What has driven that? Could it be weather, like the WSJ article suggested. Possibly. But before getting to this year's wheat weather (say that 5 times fast), we consider the role of storage. Could low storage quantities have driven up recent futures prices?"
   ]
  },
  {
   "cell_type": "markdown",
   "metadata": {},
   "source": [
    "![stock](Img/stock.png)"
   ]
  },
  {
   "cell_type": "markdown",
   "metadata": {},
   "source": [
    "Data Source: [USDA Economics, Statistics and Market Information System](https://usda.library.cornell.edu/concern/publications/xg94hp534)"
   ]
  },
  {
   "cell_type": "markdown",
   "metadata": {},
   "source": [
    "Storage quantities are a bit lower this year, but it's hard to know if the decrease is significant enough to increase prices. There's nothing in this graph that jumps out at us. Let's move on to weather conditions.\n",
    "\n",
    "We start with the measure of Extreme Degree Days (EDD) this year compared to recent years. What is EDD? The formula looks bad ($\\sum_d max(T_d - 30,0)$) but it's a count of the number of days with temperatures above 30$^{\\circ}$ Celsius (86$^{\\circ}$ F) but where 31 degree days count once, 32 degree days count twice, etc. It should be a nice way of summarizing the number of \"hot\" days. Here's a plot to help us compare EDD in 2020 to the mean EDD from 2010-2019."
   ]
  },
  {
   "cell_type": "markdown",
   "metadata": {},
   "source": [
    "![alt text](EDDplots.png \"EDD plots\")"
   ]
  },
  {
   "cell_type": "markdown",
   "metadata": {},
   "source": [
    "Data Source: [NOAA LCD](https://www.ncdc.noaa.gov/cdo-web/datatools/lcd)"
   ]
  },
  {
   "cell_type": "markdown",
   "metadata": {},
   "source": [
    "These graphs do not give compelling evidence that extreme heat has been driving this year's wheat prices. With the exception of Dickinson, North Dakota, none of the cities appear to have seen a significant increase in EDD this year. How did we choose these cities? We looked at where winter and spring wheat are grown using a nice map on Aaron Smith's website (https://asmith.ucdavis.edu/data/cropland-data-layer) and then chose cities that seemed to represent where these crops are grown. Temperature data were downloaded from the NOAA using the method in this very helpful post by Ritvik Kharkar (https://towardsdatascience.com/getting-weather-data-in-3-easy-steps-8dc10cc5c859).\n",
    "\n",
    "Temperature does not seem to have driven prices, but could precipitation have played a role? We compare the preciptation this year to the ten-year averages on the winter wheat belt or spring wheat belt. There seems to have been less precipitation on the spring wheat belt over the 2020 growing season. Low precipitation could lead to lower yields. What's more, scarce rainfall since August on the winter wheat belt narrows the window to get winter wheat crops germinated and settled before dormancy. Thus, futures prices may be based on the expectatation that next year's winter wheat crop will be damaged."
   ]
  },
  {
   "cell_type": "markdown",
   "metadata": {},
   "source": [
    "![pcp2](Img/pcp_2.png)\n",
    "![pcp1](Img/pcp_1.png)"
   ]
  },
  {
   "cell_type": "markdown",
   "metadata": {},
   "source": [
    "Data Source: [NOAA nClimDiv](https://www.ncdc.noaa.gov/monitoring-references/maps/us-climate-divisions.php#grdd)"
   ]
  },
  {
   "cell_type": "markdown",
   "metadata": {},
   "source": [
    "#### Conclusion\n",
    "\n",
    "Wheat futures prices have dramatically increased over the past few months, but we're still not really sure why. We're pretty sure we can rule out extreme heat in the US as a factor, since wheat-growing areas have not seen higher EDD in 2020 than in past years. Precipitation could have played a role, especially since the late summer and early fall saw lower precipitation, which aligns with when the price increase occurred.\n",
    "\n",
    "We think that factors besides US weather have played the most important role. Weather in Russia and other wheat-growing countries could have been warmer or dryer than usual. Trade policy also directly affects wheat markets, and the COVID pandemic has significantly disrupted the agrifood supply chain. These could all have contributed to higher wheat prices. We look forward to reading the analysis conducted by others on this topic."
   ]
  }
 ],
 "metadata": {
  "kernelspec": {
   "display_name": "Python 3",
   "language": "python",
   "name": "python3"
  },
  "language_info": {
   "codemirror_mode": {
    "name": "ipython",
    "version": 3
   },
   "file_extension": ".py",
   "mimetype": "text/x-python",
   "name": "python",
   "nbconvert_exporter": "python",
   "pygments_lexer": "ipython3",
   "version": "3.7.7"
  }
 },
 "nbformat": 4,
 "nbformat_minor": 4
}
