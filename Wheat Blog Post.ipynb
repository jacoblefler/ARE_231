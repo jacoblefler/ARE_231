{
 "cells": [
  {
   "cell_type": "markdown",
   "metadata": {},
   "source": [
    "## Are Wheat Futures Prices Being Driven by a Hot, Dry Summer?\n",
    "By Jacob Lefler and Shuo Yu"
   ]
  },
  {
   "cell_type": "markdown",
   "metadata": {},
   "source": [
    "A recent Wall Street Journal article highlighted increasing futures prices for wheat and suggested that these were in part due to \"extreme dryness and heat in the world’s breadbaskets, including Russia and the U.S.\" ([link to full article](https://www.wsj.com/articles/wheat-prices-skyrocket-after-dry-weather-coronavirus-lockdowns-11602249791?st=14rd570yuifxif8)). In this blog post, we explore the extent to which this year's prices appear to be driven by weather. Instead of sophisticated econometric analyses, we compare this year's weather in US wheat-growing areas to that of the past 10 years. The measures of weather that we use are precipitation and Extreme Degree Days (defined later). \n",
    "\n",
    "This post proceeds as follows. We review futures prices for wheat, highlighting a significant increase from Aug to Oct 2020. We also look at the amount of wheat in storage in 2020 compared to previous years and find that it has decreased somewhat, perhaps playing some role in the increased prices. Finally, we consider the weather data. Extreme Degree Days are found to have notably increased in several wheat-growing regions, and precipitation has also decreased this year. These weather conditions can lead to significantly lower wheat yields, driving up wheat prices."
   ]
  },
  {
   "cell_type": "markdown",
   "metadata": {},
   "source": [
    "![futures](Img/futures.png)"
   ]
  },
  {
   "cell_type": "markdown",
   "metadata": {},
   "source": [
    "Data Source: [Yahoo Finance](https://finance.yahoo.com/quote/KE%3DF?p=KE%3DF)"
   ]
  },
  {
   "cell_type": "markdown",
   "metadata": {},
   "source": [
    "Here we see that wheat futures prices have increased substantially since from the late summer to fall. COVID has had major impacts on both agricultural producers and consumers, but it's difficult to know to what degree these futures prices have been driven by the pandemic. Still, if you look at this graph, there is a big increase in futures price from mid-March to the beginning of April, which is when shelter-in-place orders were issued in the US. You might also notice another increase in prices starting in July, which is when the US experienced a \"second wave\" of COVID cases (see this [CDC graph](https://covid.cdc.gov/covid-data-tracker/#trends_dailytrendscases)). Of course, these correlations could be spurious, but the matching is interesting to note.\n",
    "\n",
    "But what about the huge increase from August to October? What has driven that? Could it be weather, like the WSJ article suggested. Possibly. But before getting to this year's wheat weather (say that 5 times fast), we consider the role of storage. Could low storage quantities have driven up recent futures prices?"
   ]
  },
  {
   "cell_type": "markdown",
   "metadata": {},
   "source": [
    "![stock](Img/stock.png)"
   ]
  },
  {
   "cell_type": "markdown",
   "metadata": {},
   "source": [
    "Data Source: [USDA Economics, Statistics and Market Information System](https://usda.library.cornell.edu/concern/publications/xg94hp534)"
   ]
  },
  {
   "cell_type": "markdown",
   "metadata": {},
   "source": [
    "Storage quantities are a bit lower this year, but it's hard to know if the decrease is significant enough to increase prices. There's nothing in this graph that jumps out at us. Let's move on to weather conditions.\n",
    "\n",
    "We start with the measure of Extreme Degree Days (EDD) this year compared to recent years. What is EDD? The formula looks bad ($\\sum_d max(T_d - 30,0)$) but it's a count of the number of days with temperatures above 30$^{\\circ}$ Celsius (86$^{\\circ}$ F) but where 31 degree days count once, 32 degree days count twice, etc. It should be a nice way of summarizing the number of \"hot\" days. Here, we graph EDD from this year compared to the average EDD from 2010-2019."
   ]
  },
  {
   "cell_type": "markdown",
   "metadata": {},
   "source": [
    "![EDD](Img/EDD.png)"
   ]
  },
  {
   "cell_type": "markdown",
   "metadata": {},
   "source": [
    "Data Source: [NOAA LCD](https://www.ncdc.noaa.gov/cdo-web/datatools/lcd)"
   ]
  },
  {
   "cell_type": "markdown",
   "metadata": {},
   "source": [
    "This graph suggests that there has been a marked increase in the number of EDD this year compared to past years. What role has this played in driving up the prices? We can't say for sure, but this year definitely had more warm days than past years.\n",
    "\n",
    "Then we compare the preciptation this year to the ten-year averages on the winter wheat belt or spring wheat belt. There were clearly less precipitations on the spring wheat belt over the whole 2020 growing season. The low precipitations combining with the warmer weather brought about drought and led to lower yields. What's more, scarce rainfall since August on the winter wheat belt narrows the window to get winter wheat crops germinated and settled before dormancy. Thus, people form the expectatation that next year will be a small year for winter wheat with a higher price of future deliveries."
   ]
  },
  {
   "cell_type": "markdown",
   "metadata": {},
   "source": [
    "![pcp2](Img/pcp_2.png)\n",
    "![pcp1](Img/pcp_1.png)"
   ]
  },
  {
   "cell_type": "markdown",
   "metadata": {},
   "source": [
    "Data Source: [NOAA nClimDiv](https://www.ncdc.noaa.gov/monitoring-references/maps/us-climate-divisions.php#grdd)"
   ]
  }
 ],
 "metadata": {
  "kernelspec": {
   "display_name": "Python 3",
   "language": "python",
   "name": "python3"
  },
  "language_info": {
   "codemirror_mode": {
    "name": "ipython",
    "version": 3
   },
   "file_extension": ".py",
   "mimetype": "text/x-python",
   "name": "python",
   "nbconvert_exporter": "python",
   "pygments_lexer": "ipython3",
   "version": "3.7.4"
  }
 },
 "nbformat": 4,
 "nbformat_minor": 4
}
